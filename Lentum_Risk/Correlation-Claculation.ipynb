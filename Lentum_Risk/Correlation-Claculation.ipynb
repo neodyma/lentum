{
 "cells": [
  {
   "cell_type": "code",
   "execution_count": 2,
   "metadata": {},
   "outputs": [
    {
     "name": "stdout",
     "output_type": "stream",
     "text": [
      "Correlation matrices saved to: Correlation\n"
     ]
    }
   ],
   "source": [
    "import os\n",
    "import pandas as pd\n",
    "import numpy as np\n",
    "from datetime import datetime, timedelta\n",
    "\n",
    "def calculate_and_save_correlation_matrices(data_folder, output_folder):\n",
    "    # Load all CSV files from the specified folder\n",
    "    all_data = {}\n",
    "    for filename in os.listdir(data_folder):\n",
    "        if filename.endswith('.csv'):\n",
    "            # Extract symbol from file name\n",
    "            symbol = os.path.splitext(filename)[0]\n",
    "            filepath = os.path.join(data_folder, filename)\n",
    "            df = pd.read_csv(filepath)\n",
    "            \n",
    "            # Rename columns for consistency\n",
    "            df.rename(columns={'snapped_at': 'date', 'price': symbol}, inplace=True)\n",
    "            df['date'] = pd.to_datetime(df['date'], errors='coerce')\n",
    "            \n",
    "            # Keep only date and price columns\n",
    "            all_data[symbol] = df[['date', symbol]]\n",
    "\n",
    "    # Merge all assets on the 'date' column\n",
    "    merged_data = all_data[list(all_data.keys())[0]]\n",
    "    for symbol, df in all_data.items():\n",
    "        if symbol != list(all_data.keys())[0]:\n",
    "            merged_data = pd.merge(merged_data, df, on='date', how='outer')\n",
    "\n",
    "    # Sort by date and drop rows with NaN values in prices\n",
    "    merged_data.sort_values('date', inplace=True)\n",
    "    merged_data.dropna(inplace=True)\n",
    "\n",
    "    # Calculate log returns for each asset\n",
    "    log_returns = merged_data.copy()\n",
    "    for col in merged_data.columns[1:]:\n",
    "        log_returns[col] = np.log(merged_data[col] / merged_data[col].shift(1))\n",
    "\n",
    "    log_returns.dropna(inplace=True)\n",
    "\n",
    "    # Calculate correlation matrices for the last 7 days\n",
    "    end_date = log_returns['date'].max()\n",
    "    correlation_matrices = {}\n",
    "\n",
    "    for i in range(7):\n",
    "        cutoff_date = end_date - timedelta(days=i)\n",
    "        data_last_days = log_returns[log_returns['date'] <= cutoff_date].iloc[-7:]  # Last 7 days window\n",
    "        corr_matrix = data_last_days.iloc[:, 1:].corr()\n",
    "        # Multiply by 100 and round to integers\n",
    "        corr_matrix = (corr_matrix * 100).round().astype(int)\n",
    "        correlation_matrices[cutoff_date.strftime('%Y-%m-%d')] = corr_matrix\n",
    "\n",
    "    # Save each correlation matrix as a CSV\n",
    "    os.makedirs(output_folder, exist_ok=True)\n",
    "    for date, matrix in correlation_matrices.items():\n",
    "        matrix.to_csv(f\"{output_folder}/correlation_matrix_{date}.csv\")\n",
    "    print(f\"Correlation matrices saved to: {output_folder}\")\n",
    "\n",
    "# Usage example\n",
    "if __name__ == \"__main__\":\n",
    "    # Specify the folder containing the CSV files\n",
    "    data_folder = \"Data\"  # Replace with your data folder path\n",
    "    output_folder = \"Correlation\"  # Replace with your desired output folder path\n",
    "    \n",
    "    calculate_and_save_correlation_matrices(data_folder, output_folder)\n"
   ]
  }
 ],
 "metadata": {
  "kernelspec": {
   "display_name": "Python 3",
   "language": "python",
   "name": "python3"
  },
  "language_info": {
   "codemirror_mode": {
    "name": "ipython",
    "version": 3
   },
   "file_extension": ".py",
   "mimetype": "text/x-python",
   "name": "python",
   "nbconvert_exporter": "python",
   "pygments_lexer": "ipython3",
   "version": "3.10.14"
  }
 },
 "nbformat": 4,
 "nbformat_minor": 2
}
